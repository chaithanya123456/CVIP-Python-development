{
 "cells": [
  {
   "cell_type": "code",
   "execution_count": 80,
   "id": "72fc1161-9861-46ae-ba59-c934abf40ca1",
   "metadata": {},
   "outputs": [],
   "source": [
    "\n",
    "from tkinter import *\n",
    "ex = \"\"\n",
    "\n",
    "def press(num): \n",
    "    \n",
    "\tex = ex + str(num) \n",
    "\tequation.set(ex) \n",
    "\n",
    "def equalpress(): \n",
    "\n",
    "\ttry: \n",
    "\t\tglobal ex\n",
    "\t\ttotal = str(eval(ex))\n",
    "\t\tequation.set(total) \n",
    "\t\tex = \"\" \n",
    "        \n",
    "\texcept: \n",
    "\t\tequation.set(\" error \") \n",
    "\t\tex = \"\" \n",
    "        \n",
    "def clear():\n",
    "    global ex\n",
    "    ex = \"\"\n",
    "    equation.set(\"\")\n",
    "    \n",
    "# Driver code \n",
    "if __name__ == \"__main__\": \n",
    "\n",
    "    gui = Tk()\n",
    "    gui.configure(background=\"AliceBlue\")\n",
    "    gui.title(\"Simple Calculator\")\n",
    "    equation = StringVar()\n",
    "    expression_field = Entry(gui, textvariable=equation)\n",
    "    expression_field.grid(columnspan=5, ipadx=70)\n",
    "    button1 = Button(gui, text=' 1 ', fg='black', bg='aquamarine1',command=lambda: press(1), height=3, width=7)\n",
    "    button1.grid(row=2, column=0)\n",
    "    button2 = Button(gui, text=' 2 ', fg='black', bg='aquamarine1',command=lambda: press(2), height=3, width=7)\n",
    "    button2.grid(row=2, column=1)\n",
    "    button3 = Button(gui, text=' 3 ', fg='black', bg='aquamarine1',command=lambda: press(3), height=3, width=7)\n",
    "    button3.grid(row=2, column=2)\n",
    "    button4 = Button(gui, text=' 4 ', fg='black', bg='aquamarine1',command=lambda: press(4), height=3, width=7)\n",
    "    button4.grid(row=3, column=0)\n",
    "    button5 = Button(gui, text=' 5 ', fg='black', bg='aquamarine1',command=lambda: press(5), height=3, width=7)\n",
    "    button5.grid(row=3, column=1)\n",
    "    button6 = Button(gui, text=' 6 ', fg='black', bg='aquamarine1',command=lambda: press(6), height=3, width=7)\n",
    "    button6.grid(row=3, column=2)\n",
    "    button7 = Button(gui, text=' 7 ', fg='black', bg='aquamarine1',command=lambda: press(7), height=3, width=7)\n",
    "    button7.grid(row=4, column=0)\n",
    "    button8 = Button(gui, text=' 8 ', fg='black', bg='aquamarine1',command=lambda: press(8), height=3, width=7)\n",
    "    button8.grid(row=4, column=1)\n",
    "    button9 = Button(gui, text=' 9 ', fg='black', bg='aquamarine1',command=lambda: press(9), height=3, width=7)\n",
    "    button9.grid(row=4, column=2)\n",
    "    button0 = Button(gui, text=' 0 ', fg='black', bg='aquamarine1',command=lambda: press(0), height=3, width=7)\n",
    "    button0.grid(row=5, column=0)\n",
    "    plus = Button(gui, text=' + ', fg='black', bg='aquamarine1',command=lambda: press(\"+\"), height=3, width=7)\n",
    "    plus.grid(row=2, column=3)\n",
    "    minus = Button(gui, text=' - ', fg='black', bg='aquamarine1',command=lambda: press(\"-\"), height=3, width=7)\n",
    "    minus.grid(row=3, column=3)\n",
    "    multiply = Button(gui, text=' * ',fg='black', bg='aquamarine1',command=lambda: press(\"*\"), height=3, width=7)\n",
    "    multiply.grid(row=4, column=3)\n",
    "    divide = Button(gui, text=' / ', fg='black', bg='aquamarine1',command=lambda: press(\"/\"), height=3, width=7)\n",
    "    divide.grid(row=5, column=3)\n",
    "    equal = Button(gui, text=' = ', fg='black', bg='aquamarine1',command=equalpress, height=3, width=7)\n",
    "    equal.grid(row=5, column=2)\n",
    "    clear = Button(gui, text='Clear', fg='black', bg='aquamarine1',command=clear, height=3, width=7)\n",
    "    clear.grid(row=5, column='1')\n",
    "    Decimal= Button(gui, text='.', fg='black', bg='aquamarine1', command=lambda: press('.'), height=3, width=7)\n",
    "    Decimal.grid(row=6, column=0)\n",
    "    gui.mainloop()\n"
   ]
  },
  {
   "cell_type": "code",
   "execution_count": 62,
   "id": "a50294d3-ae24-4c40-b9a3-f3d1bf89b5c1",
   "metadata": {},
   "outputs": [
    {
     "name": "stdout",
     "output_type": "stream",
     "text": [
      "10\n"
     ]
    }
   ],
   "source": []
  },
  {
   "cell_type": "code",
   "execution_count": null,
   "id": "2350dee4-d791-4aa8-abfd-3aed53658d94",
   "metadata": {},
   "outputs": [],
   "source": []
  },
  {
   "cell_type": "code",
   "execution_count": null,
   "id": "e8db401f-2f62-4be4-9778-b5464030a1b7",
   "metadata": {},
   "outputs": [],
   "source": []
  },
  {
   "cell_type": "code",
   "execution_count": null,
   "id": "efb75209-c63b-44e2-90ef-b6e8c04b613b",
   "metadata": {},
   "outputs": [],
   "source": []
  }
 ],
 "metadata": {
  "kernelspec": {
   "display_name": "Python 3 (ipykernel)",
   "language": "python",
   "name": "python3"
  },
  "language_info": {
   "codemirror_mode": {
    "name": "ipython",
    "version": 3
   },
   "file_extension": ".py",
   "mimetype": "text/x-python",
   "name": "python",
   "nbconvert_exporter": "python",
   "pygments_lexer": "ipython3",
   "version": "3.12.0"
  }
 },
 "nbformat": 4,
 "nbformat_minor": 5
}
